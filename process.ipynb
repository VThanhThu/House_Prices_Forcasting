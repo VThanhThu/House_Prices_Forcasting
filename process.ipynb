{
 "cells": [
  {
   "cell_type": "code",
   "execution_count": 127,
   "metadata": {},
   "outputs": [],
   "source": [
    "import pandas as pd\n",
    "import numpy as np"
   ]
  },
  {
   "cell_type": "code",
   "execution_count": 128,
   "metadata": {},
   "outputs": [
    {
     "name": "stdout",
     "output_type": "stream",
     "text": [
      "        Carpet Area  Unit0 Super Area  Unit1 Current Floor Total Floor  \\\n",
      "0             500.0   sqft        NaN    NaN            10          11   \n",
      "1             473.0   sqft        NaN    NaN             3          22   \n",
      "2             779.0   sqft        NaN    NaN            10          29   \n",
      "3             530.0   sqft        NaN    NaN             1           3   \n",
      "4             635.0   sqft        NaN    NaN            20          42   \n",
      "...             ...    ...        ...    ...           ...         ...   \n",
      "187526          NaN    NaN       1953   sqft             2           4   \n",
      "187527          NaN    NaN       1680   sqft             4           6   \n",
      "187528       1250.0   sqft        NaN    NaN             1           3   \n",
      "187529          NaN    NaN        709   sqft             2           2   \n",
      "187530          NaN    NaN       1915   sqft             5          13   \n",
      "\n",
      "            Furnishing Bathroom Balcony  Car Parking     Types Amount Unit2  \n",
      "0          Unfurnished        1       2          NaN       NaN     42   Lac  \n",
      "1       Semi-Furnished        2     NaN          1.0      Open     98   Lac  \n",
      "2          Unfurnished        2     NaN          1.0   Covered    1.4    Cr  \n",
      "3          Unfurnished        1       1          NaN       NaN     25   Lac  \n",
      "4          Unfurnished        2     NaN          1.0   Covered    1.6    Cr  \n",
      "...                ...      ...     ...          ...       ...    ...   ...  \n",
      "187526  Semi-Furnished        3       3          1.0   Covered     63   Lac  \n",
      "187527     Unfurnished        3     NaN          1.0   Covered     55   Lac  \n",
      "187528       Furnished        3       2          1.0   Covered     76   Lac  \n",
      "187529  Semi-Furnished        2     NaN          NaN       NaN     30   Lac  \n",
      "187530  Semi-Furnished        4       4          1.0   Covered   1.18    Cr  \n",
      "\n",
      "[187531 rows x 13 columns]\n"
     ]
    }
   ],
   "source": [
    "# Đọc dữ liệu từ CSV\n",
    "df = pd.read_csv(\"D:\\\\House Prices _ onehot\\\\Dataset\\\\pre_data1.csv\")\n",
    "print(df)"
   ]
  },
  {
   "cell_type": "code",
   "execution_count": 129,
   "metadata": {},
   "outputs": [
    {
     "name": "stdout",
     "output_type": "stream",
     "text": [
      "Số lượng NaN trong các cột:\n",
      "Carpet Area       80673\n",
      "Unit0             80673\n",
      "Super Area       107685\n",
      "Unit1            107685\n",
      "Current Floor      7077\n",
      "Total Floor        7126\n",
      "Furnishing         2897\n",
      "Bathroom            828\n",
      "Balcony           48935\n",
      "Car Parking      103357\n",
      "Types            103357\n",
      "Amount                0\n",
      "Unit2              9684\n",
      "dtype: int64\n",
      "\n",
      "Số lượng giá trị unique trong các cột:\n",
      "Carpet Area      2473\n",
      "Unit0               9\n",
      "Super Area       2755\n",
      "Unit1              11\n",
      "Current Floor      55\n",
      "Total Floor        74\n",
      "Furnishing          3\n",
      "Bathroom           11\n",
      "Balcony            11\n",
      "Car Parking       156\n",
      "Types               2\n",
      "Amount           1468\n",
      "Unit2               2\n",
      "dtype: int64\n"
     ]
    }
   ],
   "source": [
    "# Kiểm tra số lượng NaN trong các cột\n",
    "nan_count = df.isna().sum()\n",
    "print(\"Số lượng NaN trong các cột:\")\n",
    "print(nan_count)\n",
    "\n",
    "# Kiểm tra số lượng giá trị unique trong các cột\n",
    "unique_count = df.nunique()\n",
    "print(\"\\nSố lượng giá trị unique trong các cột:\")\n",
    "print(unique_count)"
   ]
  },
  {
   "cell_type": "code",
   "execution_count": 130,
   "metadata": {},
   "outputs": [
    {
     "name": "stdout",
     "output_type": "stream",
     "text": [
      "Carpet Area    float64\n",
      "Super Area     float64\n",
      "dtype: object\n"
     ]
    }
   ],
   "source": [
    "df[['Carpet Area', 'Super Area']] = df[['Carpet Area', 'Super Area']].apply(pd.to_numeric, errors='coerce')\n",
    "print(df[['Carpet Area', 'Super Area']].dtypes)\n"
   ]
  },
  {
   "cell_type": "code",
   "execution_count": 131,
   "metadata": {},
   "outputs": [
    {
     "name": "stdout",
     "output_type": "stream",
     "text": [
      "[' sqft' nan ' sqm' ' sqyrd' ' acre' ' ground' ' cent' ' bigha' ' marla'\n",
      " ' kanal']\n",
      "[nan ' sqft' ' sqm' ' sqyrd' ' marla' ' kanal' ' ground' ' biswa'\n",
      " ' aankadam' ' acre' ' hectare' ' cent']\n"
     ]
    }
   ],
   "source": [
    "# Số đơn vị khác nhau\n",
    "print(df[\"Unit0\"].unique())\n",
    "# Số đơn vị khác nhau\n",
    "print(df[\"Unit1\"].unique())"
   ]
  },
  {
   "cell_type": "code",
   "execution_count": 132,
   "metadata": {},
   "outputs": [
    {
     "name": "stdout",
     "output_type": "stream",
     "text": [
      "        Carpet Area Unit0  Super Area Unit1\n",
      "0             500.0  sqft         NaN   NaN\n",
      "1             473.0  sqft         NaN   NaN\n",
      "2             779.0  sqft         NaN   NaN\n",
      "3             530.0  sqft         NaN   NaN\n",
      "4             635.0  sqft         NaN   NaN\n",
      "...             ...   ...         ...   ...\n",
      "187526          NaN   NaN      1953.0  sqft\n",
      "187527          NaN   NaN      1680.0  sqft\n",
      "187528       1250.0  sqft         NaN   NaN\n",
      "187529          NaN   NaN       709.0  sqft\n",
      "187530          NaN   NaN      1915.0  sqft\n",
      "\n",
      "[187531 rows x 4 columns]\n"
     ]
    }
   ],
   "source": [
    "# Định nghĩa các yếu tố chuyển đổi cho các đơn vị\n",
    "conversion_factors = {\n",
    "    \"sqft\": 1, \" sqft\": 1,  \n",
    "    \"sqm\": 10.764, \" sqm\": 10.764,  \n",
    "    \"acre\": 43560, \" acre\": 43560,  \n",
    "    \"sqyrd\": 9, \" sqyrd\": 9,  \n",
    "    \"marla\": 272.25, \" marla\": 272.25,  \n",
    "    \"kanal\": 5445, \" kanal\": 5445,  \n",
    "    \"bigha\": 17427, \" bigha\": 17427,\n",
    "    \"ground\": 2400, \" ground\": 2400,\n",
    "    \"cent\": 435.6, \" cent\": 435.6,\n",
    "    \"biswa\": 20.25, \" biswa\": 20.25,\n",
    "    \"aankadam\": 1080, \" aankadam\": 1080,\n",
    "    \"hectare\": 107639, \" hectare\": 107639\n",
    "}\n",
    "\n",
    "# Loại bỏ khoảng trắng thừa trong các đơn vị\n",
    "df[\"Unit0\"] = df[\"Unit0\"].str.strip()\n",
    "df[\"Unit1\"] = df[\"Unit1\"].str.strip()\n",
    "\n",
    "# Đổi \"Carpet Area\" về đơn vị sqft theo đơn vị trong cột \"Unit0\"\n",
    "df[\"Carpet Area\"] = df[\"Carpet Area\"] * df[\"Unit0\"].map(conversion_factors)\n",
    "\n",
    "# Đổi \"Super Area\" về đơn vị sqft theo đơn vị trong cột \"Unit1\"\n",
    "df[\"Super Area\"] = df[\"Super Area\"] * df[\"Unit1\"].map(conversion_factors)\n",
    "\n",
    "# In kết quả sau khi chuyển đổi\n",
    "print(df[[\"Carpet Area\", \"Unit0\", \"Super Area\", \"Unit1\"]])\n"
   ]
  },
  {
   "cell_type": "code",
   "execution_count": 133,
   "metadata": {},
   "outputs": [
    {
     "name": "stdout",
     "output_type": "stream",
     "text": [
      "        Carpet Area  Super Area Current Floor Total Floor      Furnishing  \\\n",
      "0             500.0         NaN            10          11     Unfurnished   \n",
      "1             473.0         NaN             3          22  Semi-Furnished   \n",
      "2             779.0         NaN            10          29     Unfurnished   \n",
      "3             530.0         NaN             1           3     Unfurnished   \n",
      "4             635.0         NaN            20          42     Unfurnished   \n",
      "...             ...         ...           ...         ...             ...   \n",
      "187526          NaN      1953.0             2           4  Semi-Furnished   \n",
      "187527          NaN      1680.0             4           6     Unfurnished   \n",
      "187528       1250.0         NaN             1           3       Furnished   \n",
      "187529          NaN       709.0             2           2  Semi-Furnished   \n",
      "187530          NaN      1915.0             5          13  Semi-Furnished   \n",
      "\n",
      "       Bathroom Balcony  Car Parking     Types Amount Unit2  \n",
      "0             1       2          NaN       NaN     42   Lac  \n",
      "1             2     NaN          1.0      Open     98   Lac  \n",
      "2             2     NaN          1.0   Covered    1.4    Cr  \n",
      "3             1       1          NaN       NaN     25   Lac  \n",
      "4             2     NaN          1.0   Covered    1.6    Cr  \n",
      "...         ...     ...          ...       ...    ...   ...  \n",
      "187526        3       3          1.0   Covered     63   Lac  \n",
      "187527        3     NaN          1.0   Covered     55   Lac  \n",
      "187528        3       2          1.0   Covered     76   Lac  \n",
      "187529        2     NaN          NaN       NaN     30   Lac  \n",
      "187530        4       4          1.0   Covered   1.18    Cr  \n",
      "\n",
      "[187531 rows x 11 columns]\n"
     ]
    }
   ],
   "source": [
    "df.drop(columns=[\"Unit0\"], inplace=True)\n",
    "df.drop(columns=[\"Unit1\"], inplace=True)\n",
    "print(df)"
   ]
  },
  {
   "cell_type": "code",
   "execution_count": 134,
   "metadata": {},
   "outputs": [
    {
     "name": "stdout",
     "output_type": "stream",
     "text": [
      "          Area\n",
      "0        500.0\n",
      "1        473.0\n",
      "2        779.0\n",
      "3        530.0\n",
      "4        635.0\n",
      "...        ...\n",
      "187526  1953.0\n",
      "187527  1680.0\n",
      "187528  1250.0\n",
      "187529   709.0\n",
      "187530  1915.0\n",
      "\n",
      "[187531 rows x 1 columns]\n"
     ]
    }
   ],
   "source": [
    "# Gộp giá trị từ cột \"Carpet Area\" và \"Super Area\" thành cột \"Area\"\n",
    "df['Area'] = df['Carpet Area'].fillna(df['Super Area'])\n",
    "\n",
    "# Hiển thị kết quả sau khi gộp\n",
    "print(df[['Area']])\n"
   ]
  },
  {
   "cell_type": "code",
   "execution_count": 135,
   "metadata": {},
   "outputs": [
    {
     "name": "stdout",
     "output_type": "stream",
     "text": [
      "       Current Floor Total Floor      Furnishing Bathroom Balcony  \\\n",
      "0                 10          11     Unfurnished        1       2   \n",
      "1                  3          22  Semi-Furnished        2     NaN   \n",
      "2                 10          29     Unfurnished        2     NaN   \n",
      "3                  1           3     Unfurnished        1       1   \n",
      "4                 20          42     Unfurnished        2     NaN   \n",
      "...              ...         ...             ...      ...     ...   \n",
      "187526             2           4  Semi-Furnished        3       3   \n",
      "187527             4           6     Unfurnished        3     NaN   \n",
      "187528             1           3       Furnished        3       2   \n",
      "187529             2           2  Semi-Furnished        2     NaN   \n",
      "187530             5          13  Semi-Furnished        4       4   \n",
      "\n",
      "        Car Parking     Types Amount Unit2    Area  \n",
      "0               NaN       NaN     42   Lac   500.0  \n",
      "1               1.0      Open     98   Lac   473.0  \n",
      "2               1.0   Covered    1.4    Cr   779.0  \n",
      "3               NaN       NaN     25   Lac   530.0  \n",
      "4               1.0   Covered    1.6    Cr   635.0  \n",
      "...             ...       ...    ...   ...     ...  \n",
      "187526          1.0   Covered     63   Lac  1953.0  \n",
      "187527          1.0   Covered     55   Lac  1680.0  \n",
      "187528          1.0   Covered     76   Lac  1250.0  \n",
      "187529          NaN       NaN     30   Lac   709.0  \n",
      "187530          1.0   Covered   1.18    Cr  1915.0  \n",
      "\n",
      "[187531 rows x 10 columns]\n"
     ]
    }
   ],
   "source": [
    "df.drop(columns=[\"Carpet Area\"], inplace=True)\n",
    "df.drop(columns=[\"Super Area\"], inplace=True)\n",
    "print(df)"
   ]
  },
  {
   "cell_type": "code",
   "execution_count": 136,
   "metadata": {},
   "outputs": [
    {
     "name": "stdout",
     "output_type": "stream",
     "text": [
      "0          500.0\n",
      "1          473.0\n",
      "2          779.0\n",
      "3          530.0\n",
      "4          635.0\n",
      "           ...  \n",
      "187526    1953.0\n",
      "187527    1680.0\n",
      "187528    1250.0\n",
      "187529     709.0\n",
      "187530    1915.0\n",
      "Name: Area, Length: 187531, dtype: float64\n"
     ]
    },
    {
     "name": "stderr",
     "output_type": "stream",
     "text": [
      "C:\\Users\\FPTSHOP\\AppData\\Local\\Temp\\ipykernel_19356\\3804916611.py:11: FutureWarning: A value is trying to be set on a copy of a DataFrame or Series through chained assignment using an inplace method.\n",
      "The behavior will change in pandas 3.0. This inplace method will never work because the intermediate object on which we are setting values always behaves as a copy.\n",
      "\n",
      "For example, when doing 'df[col].method(value, inplace=True)', try using 'df.method({col: value}, inplace=True)' or df[col] = df[col].method(value) instead, to perform the operation inplace on the original object.\n",
      "\n",
      "\n",
      "  df[col].fillna(int(df[col].mean()), inplace=True)\n"
     ]
    }
   ],
   "source": [
    "# fill data with mean value\n",
    "\n",
    "# Duyệt qua từng cột Area\n",
    "cols_to_fill = [\"Area\"]\n",
    "\n",
    "for col in cols_to_fill:\n",
    "    # Chuyển cột sang số, lỗi thì thành NaN\n",
    "    df[col] = pd.to_numeric(df[col], errors=\"coerce\")\n",
    "\n",
    "    # Điền NaN bằng phần nguyên của trung bình cột\n",
    "    df[col].fillna(int(df[col].mean()), inplace=True)\n",
    "\n",
    "print(df[\"Area\"])\n"
   ]
  },
  {
   "cell_type": "code",
   "execution_count": 137,
   "metadata": {},
   "outputs": [
    {
     "name": "stdout",
     "output_type": "stream",
     "text": [
      "Số lượng NaN trong các cột:\n",
      "Current Floor      7077\n",
      "Total Floor        7126\n",
      "Furnishing         2897\n",
      "Bathroom            828\n",
      "Balcony           48935\n",
      "Car Parking      103357\n",
      "Types            103357\n",
      "Amount                0\n",
      "Unit2              9684\n",
      "Area                  0\n",
      "dtype: int64\n"
     ]
    }
   ],
   "source": [
    "# Kiểm tra số lượng NaN trong các cột\n",
    "nan_count = df.isna().sum()\n",
    "print(\"Số lượng NaN trong các cột:\")\n",
    "print(nan_count)\n"
   ]
  },
  {
   "cell_type": "code",
   "execution_count": 138,
   "metadata": {},
   "outputs": [],
   "source": [
    "# Chuyển đổi giá trị trong cột thành số và bỏ qua các giá trị không phải số\n",
    "df['Current Floor'] = pd.to_numeric(df['Current Floor'], errors='coerce')\n",
    "df['Total Floor'] = pd.to_numeric(df['Total Floor'], errors='coerce')\n",
    "\n",
    "# Duyệt qua từng cột Area\n",
    "cols_to_fill = [\"Current Floor\", \"Total Floor\"]\n",
    "\n",
    "for col in cols_to_fill:\n",
    "    # Chuyển cột sang số, lỗi thì thành NaN\n",
    "    df[col] = pd.to_numeric(df[col], errors=\"coerce\")\n",
    "\n",
    "    # Điền NaN bằng phần nguyên của trung bình cột\n",
    "    df[col] = df[col].fillna(int(df[col].mean()))  # Gán lại giá trị thay vì dùng inplace=True\n"
   ]
  },
  {
   "cell_type": "code",
   "execution_count": 139,
   "metadata": {},
   "outputs": [
    {
     "name": "stdout",
     "output_type": "stream",
     "text": [
      "Số lượng NaN trong các cột:\n",
      "Current Floor         0\n",
      "Total Floor           0\n",
      "Furnishing         2897\n",
      "Bathroom            828\n",
      "Balcony           48935\n",
      "Car Parking      103357\n",
      "Types            103357\n",
      "Amount                0\n",
      "Unit2              9684\n",
      "Area                  0\n",
      "dtype: int64\n"
     ]
    }
   ],
   "source": [
    "# Kiểm tra số lượng NaN trong các cột\n",
    "nan_count = df.isna().sum()\n",
    "print(\"Số lượng NaN trong các cột:\")\n",
    "print(nan_count)\n"
   ]
  },
  {
   "cell_type": "code",
   "execution_count": 140,
   "metadata": {},
   "outputs": [],
   "source": [
    "# Chuyển cột Bathroom sang kiểu số (nếu chưa)\n",
    "df[\"Bathroom\"] = pd.to_numeric(df[\"Bathroom\"], errors=\"coerce\")\n",
    "df[\"Balcony\"] = pd.to_numeric(df[\"Balcony\"], errors=\"coerce\")\n",
    "df[\"Car Parking\"] = pd.to_numeric(df[\"Car Parking\"], errors=\"coerce\")\n",
    "\n",
    "# Xóa các hàng có Bathroom > 10\n",
    "df = df[df[\"Bathroom\"] <= 10]\n",
    "\n",
    "# Duyệt qua từng cột Area\n",
    "cols_to_fill = [\"Bathroom\", \"Balcony\", \"Car Parking\"]\n",
    "\n",
    "for col in cols_to_fill:\n",
    "    # Chuyển cột sang số, lỗi thì thành NaN\n",
    "    df[col] = pd.to_numeric(df[col], errors=\"coerce\")\n",
    "\n",
    "    # Điền NaN bằng phần nguyên của trung bình cột\n",
    "    df[col] = df[col].fillna(int(df[col].mean()))  # Gán lại giá trị thay vì dùng inplace=True\n"
   ]
  },
  {
   "cell_type": "code",
   "execution_count": 141,
   "metadata": {},
   "outputs": [
    {
     "name": "stdout",
     "output_type": "stream",
     "text": [
      "Số lượng NaN trong các cột:\n",
      "Current Floor         0\n",
      "Total Floor           0\n",
      "Furnishing         2122\n",
      "Bathroom              0\n",
      "Balcony               0\n",
      "Car Parking           0\n",
      "Types            102549\n",
      "Amount                0\n",
      "Unit2              9610\n",
      "Area                  0\n",
      "dtype: int64\n"
     ]
    }
   ],
   "source": [
    "# Kiểm tra số lượng NaN trong các cột\n",
    "nan_count = df.isna().sum()\n",
    "print(\"Số lượng NaN trong các cột:\")\n",
    "print(nan_count)\n"
   ]
  },
  {
   "cell_type": "code",
   "execution_count": 142,
   "metadata": {},
   "outputs": [
    {
     "name": "stdout",
     "output_type": "stream",
     "text": [
      "[' Lac' ' Cr' nan]\n"
     ]
    }
   ],
   "source": [
    "# Số đơn vị khác nhau\n",
    "print(df[\"Unit2\"].unique())"
   ]
  },
  {
   "cell_type": "code",
   "execution_count": 143,
   "metadata": {},
   "outputs": [
    {
     "name": "stdout",
     "output_type": "stream",
     "text": [
      "Số lượng NaN trong các cột:\n",
      "Current Floor        0\n",
      "Total Floor          0\n",
      "Furnishing        1348\n",
      "Bathroom             0\n",
      "Balcony              0\n",
      "Car Parking          0\n",
      "Types            95158\n",
      "Amount               0\n",
      "Unit2                0\n",
      "Area                 0\n",
      "dtype: int64\n"
     ]
    }
   ],
   "source": [
    "# Xóa các hàng có giá trị NaN trong cột 'Unit2'\n",
    "df = df.dropna(subset=['Unit2'])\n",
    "# Kiểm tra số lượng NaN trong các cột\n",
    "nan_count = df.isna().sum()\n",
    "print(\"Số lượng NaN trong các cột:\")\n",
    "print(nan_count)\n",
    "\n"
   ]
  },
  {
   "cell_type": "code",
   "execution_count": 144,
   "metadata": {},
   "outputs": [
    {
     "name": "stdout",
     "output_type": "stream",
     "text": [
      "        Current Floor  Total Floor      Furnishing  Bathroom  Balcony  \\\n",
      "0                10.0         11.0     Unfurnished       1.0      2.0   \n",
      "1                 3.0         22.0  Semi-Furnished       2.0      2.0   \n",
      "2                10.0         29.0     Unfurnished       2.0      2.0   \n",
      "3                 1.0          3.0     Unfurnished       1.0      1.0   \n",
      "4                20.0         42.0     Unfurnished       2.0      2.0   \n",
      "...               ...          ...             ...       ...      ...   \n",
      "187526            2.0          4.0  Semi-Furnished       3.0      3.0   \n",
      "187527            4.0          6.0     Unfurnished       3.0      2.0   \n",
      "187528            1.0          3.0       Furnished       3.0      2.0   \n",
      "187529            2.0          2.0  Semi-Furnished       2.0      2.0   \n",
      "187530            5.0         13.0  Semi-Furnished       4.0      4.0   \n",
      "\n",
      "        Car Parking     Types Amount Unit2    Area  \n",
      "0               4.0       NaN     42   Lac   500.0  \n",
      "1               1.0      Open     98   Lac   473.0  \n",
      "2               1.0   Covered    1.4    Cr   779.0  \n",
      "3               4.0       NaN     25   Lac   530.0  \n",
      "4               1.0   Covered    1.6    Cr   635.0  \n",
      "...             ...       ...    ...   ...     ...  \n",
      "187526          1.0   Covered     63   Lac  1953.0  \n",
      "187527          1.0   Covered     55   Lac  1680.0  \n",
      "187528          1.0   Covered     76   Lac  1250.0  \n",
      "187529          4.0       NaN     30   Lac   709.0  \n",
      "187530          1.0   Covered   1.18    Cr  1915.0  \n",
      "\n",
      "[177058 rows x 10 columns]\n"
     ]
    }
   ],
   "source": [
    "print(df)"
   ]
  },
  {
   "cell_type": "code",
   "execution_count": 145,
   "metadata": {},
   "outputs": [
    {
     "name": "stdout",
     "output_type": "stream",
     "text": [
      "            Amount Unit2\n",
      "0         420000.0   Lac\n",
      "1         980000.0   Lac\n",
      "2       14000000.0    Cr\n",
      "3         250000.0   Lac\n",
      "4       16000000.0    Cr\n",
      "...            ...   ...\n",
      "187526    630000.0   Lac\n",
      "187527    550000.0   Lac\n",
      "187528    760000.0   Lac\n",
      "187529    300000.0   Lac\n",
      "187530  11800000.0    Cr\n",
      "\n",
      "[177058 rows x 2 columns]\n"
     ]
    }
   ],
   "source": [
    "# Chuyển cột Bathroom sang kiểu số (nếu chưa)\n",
    "df[\"Amount\"] = pd.to_numeric(df[\"Amount\"], errors=\"coerce\")\n",
    "\n",
    "# Định nghĩa các yếu tố chuyển đổi cho các đơn vị\n",
    "conversion_factors = {\n",
    "    \"Lac\": 10000, \" Lac\": 10000,  # Giả sử 1 Lac = 10,000 sqft\n",
    "    \"Cr\": 10000000, \" Cr\": 10000000  # Giả sử 1 Cr = 10,000,000 sqft\n",
    "}\n",
    "\n",
    "# Loại bỏ khoảng trắng thừa trong các đơn vị\n",
    "df[\"Unit2\"] = df[\"Unit2\"].str.strip()\n",
    "\n",
    "# Kiểm tra và xử lý giá trị không hợp lệ trong cột 'Unit2' nếu cần\n",
    "df[\"Unit2\"] = df[\"Unit2\"].apply(lambda x: x if x in conversion_factors else None)\n",
    "\n",
    "# Đổi \"Amount\" về đơn vị sqft theo đơn vị trong cột \"Unit2\"\n",
    "df[\"Amount\"] = df[\"Amount\"] * df[\"Unit2\"].map(conversion_factors)\n",
    "\n",
    "# In kết quả sau khi chuyển đổi\n",
    "print(df[[\"Amount\", \"Unit2\"]])\n"
   ]
  },
  {
   "cell_type": "code",
   "execution_count": 146,
   "metadata": {},
   "outputs": [
    {
     "name": "stdout",
     "output_type": "stream",
     "text": [
      "float64\n"
     ]
    }
   ],
   "source": [
    "print(df['Amount'].dtype)"
   ]
  },
  {
   "cell_type": "code",
   "execution_count": 147,
   "metadata": {},
   "outputs": [
    {
     "name": "stdout",
     "output_type": "stream",
     "text": [
      "Số lượng NaN trong các cột:\n",
      "Current Floor        0\n",
      "Total Floor          0\n",
      "Furnishing        1348\n",
      "Bathroom             0\n",
      "Balcony              0\n",
      "Car Parking          0\n",
      "Types            95158\n",
      "Amount               0\n",
      "Area                 0\n",
      "dtype: int64\n"
     ]
    }
   ],
   "source": [
    "df.drop(columns=[\"Unit2\"], inplace=True)\n",
    "# Kiểm tra số lượng NaN trong các cột\n",
    "nan_count = df.isna().sum()\n",
    "print(\"Số lượng NaN trong các cột:\")\n",
    "print(nan_count)"
   ]
  },
  {
   "cell_type": "code",
   "execution_count": 148,
   "metadata": {},
   "outputs": [
    {
     "name": "stdout",
     "output_type": "stream",
     "text": [
      "       Current Floor    Total Floor       Bathroom        Balcony  \\\n",
      "count  177058.000000  177058.000000  177058.000000  177058.000000   \n",
      "mean        4.729117       8.771629       2.448090       2.008839   \n",
      "std         4.471220       7.419662       0.852182       0.817157   \n",
      "min         1.000000       1.000000       1.000000       1.000000   \n",
      "25%         2.000000       4.000000       2.000000       1.000000   \n",
      "50%         4.000000       6.000000       2.000000       2.000000   \n",
      "75%         5.000000      11.000000       3.000000       2.000000   \n",
      "max       200.000000     200.000000      10.000000      10.000000   \n",
      "\n",
      "         Car Parking        Amount          Area  \n",
      "count  177058.000000  1.770580e+05  1.770580e+05  \n",
      "mean        4.000966  8.842855e+06  2.243598e+03  \n",
      "std        21.485081  4.000931e+07  2.018833e+05  \n",
      "min         1.000000  1.000000e+04  1.000000e+00  \n",
      "25%         1.000000  4.850000e+05  9.000000e+02  \n",
      "50%         4.000000  7.800000e+05  1.200000e+03  \n",
      "75%         4.000000  1.450000e+07  1.600000e+03  \n",
      "max       999.000000  1.400300e+10  6.534000e+07  \n"
     ]
    }
   ],
   "source": [
    "print(df.describe())"
   ]
  },
  {
   "cell_type": "code",
   "execution_count": 149,
   "metadata": {},
   "outputs": [
    {
     "name": "stdout",
     "output_type": "stream",
     "text": [
      "        Current Floor  Total Floor      Furnishing  Bathroom  Balcony  \\\n",
      "3                 1.0          3.0     Unfurnished       1.0      1.0   \n",
      "5                 2.0          7.0     Unfurnished       1.0      1.0   \n",
      "6                 4.0          5.0     Unfurnished       1.0      2.0   \n",
      "7                 4.0          7.0       Furnished       1.0      2.0   \n",
      "8                 4.0          2.0       Furnished       1.0      2.0   \n",
      "...               ...          ...             ...       ...      ...   \n",
      "187525            1.0          3.0     Unfurnished       3.0      2.0   \n",
      "187526            2.0          4.0  Semi-Furnished       3.0      3.0   \n",
      "187527            4.0          6.0     Unfurnished       3.0      2.0   \n",
      "187528            1.0          3.0       Furnished       3.0      2.0   \n",
      "187529            2.0          2.0  Semi-Furnished       2.0      2.0   \n",
      "\n",
      "        Car Parking     Types    Amount    Area  \n",
      "3               4.0       NaN  250000.0   530.0  \n",
      "5               4.0       NaN  450000.0   680.0  \n",
      "6               4.0       NaN  165000.0   550.0  \n",
      "7               4.0       NaN  600000.0   575.0  \n",
      "8               4.0       NaN  600000.0   600.0  \n",
      "...             ...       ...       ...     ...  \n",
      "187525          4.0       NaN  449000.0  1050.0  \n",
      "187526          1.0   Covered  630000.0  1953.0  \n",
      "187527          1.0   Covered  550000.0  1680.0  \n",
      "187528          1.0   Covered  760000.0  1250.0  \n",
      "187529          4.0       NaN  300000.0   709.0  \n",
      "\n",
      "[127286 rows x 9 columns]\n"
     ]
    }
   ],
   "source": [
    "# Định nghĩa một hàm để xử lý ngoại lai với IQR cho toàn bộ DataFrame\n",
    "def remove_outliers_iqr(df):\n",
    "    # Lọc ra các cột số trong df\n",
    "    numeric_columns = df.select_dtypes(include=[np.number]).columns\n",
    "    \n",
    "    # Tính IQR cho từng cột số\n",
    "    for col in numeric_columns:\n",
    "        Q1 = df[col].quantile(0.25)\n",
    "        Q3 = df[col].quantile(0.75)\n",
    "        IQR = Q3 - Q1\n",
    "        \n",
    "        # Xác định phạm vi hợp lệ\n",
    "        lower_bound = Q1 - 1.5 * IQR\n",
    "        upper_bound = Q3 + 1.5 * IQR\n",
    "        \n",
    "        # Loại bỏ các dòng có giá trị ngoại lai\n",
    "        df = df[(df[col] >= lower_bound) & (df[col] <= upper_bound)]\n",
    "    \n",
    "    return df\n",
    "\n",
    "# Xử lý ngoại lai trên toàn bộ df\n",
    "df_cleaned = remove_outliers_iqr(df)\n",
    "\n",
    "# In ra DataFrame sau khi xử lý\n",
    "print(df_cleaned)\n"
   ]
  },
  {
   "cell_type": "code",
   "execution_count": 150,
   "metadata": {},
   "outputs": [
    {
     "name": "stdout",
     "output_type": "stream",
     "text": [
      "       Current Floor    Total Floor       Bathroom        Balcony  \\\n",
      "count  177058.000000  177058.000000  177058.000000  177058.000000   \n",
      "mean        4.729117       8.771629       2.448090       2.008839   \n",
      "std         4.471220       7.419662       0.852182       0.817157   \n",
      "min         1.000000       1.000000       1.000000       1.000000   \n",
      "25%         2.000000       4.000000       2.000000       1.000000   \n",
      "50%         4.000000       6.000000       2.000000       2.000000   \n",
      "75%         5.000000      11.000000       3.000000       2.000000   \n",
      "max       200.000000     200.000000      10.000000      10.000000   \n",
      "\n",
      "         Car Parking        Amount          Area  \n",
      "count  177058.000000  1.770580e+05  1.770580e+05  \n",
      "mean        4.000966  8.842855e+06  2.243598e+03  \n",
      "std        21.485081  4.000931e+07  2.018833e+05  \n",
      "min         1.000000  1.000000e+04  1.000000e+00  \n",
      "25%         1.000000  4.850000e+05  9.000000e+02  \n",
      "50%         4.000000  7.800000e+05  1.200000e+03  \n",
      "75%         4.000000  1.450000e+07  1.600000e+03  \n",
      "max       999.000000  1.400300e+10  6.534000e+07  \n"
     ]
    }
   ],
   "source": [
    "print(df.describe())"
   ]
  },
  {
   "cell_type": "code",
   "execution_count": 151,
   "metadata": {},
   "outputs": [],
   "source": [
    "# Chia Amount thành các nhóm: Low, Medium, High\n",
    "Q1 = df['Amount'].quantile(0.25)\n",
    "Q3 = df['Amount'].quantile(0.75)\n",
    "df['Amount_Category'] = pd.cut(df['Amount'], bins=[-np.inf, Q1, Q3, np.inf], labels=['Low', 'Medium', 'High'])\n",
    "\n",
    "# One-hot encoding\n",
    "df = pd.get_dummies(df, columns=['Amount_Category'], drop_first=False)\n"
   ]
  },
  {
   "cell_type": "code",
   "execution_count": 152,
   "metadata": {},
   "outputs": [
    {
     "name": "stdout",
     "output_type": "stream",
     "text": [
      "        Current Floor  Total Floor      Furnishing  Bathroom  Balcony  \\\n",
      "0                10.0         11.0     Unfurnished       1.0      2.0   \n",
      "1                 3.0         22.0  Semi-Furnished       2.0      2.0   \n",
      "2                10.0         29.0     Unfurnished       2.0      2.0   \n",
      "3                 1.0          3.0     Unfurnished       1.0      1.0   \n",
      "4                20.0         42.0     Unfurnished       2.0      2.0   \n",
      "...               ...          ...             ...       ...      ...   \n",
      "187526            2.0          4.0  Semi-Furnished       3.0      3.0   \n",
      "187527            4.0          6.0     Unfurnished       3.0      2.0   \n",
      "187528            1.0          3.0       Furnished       3.0      2.0   \n",
      "187529            2.0          2.0  Semi-Furnished       2.0      2.0   \n",
      "187530            5.0         13.0  Semi-Furnished       4.0      4.0   \n",
      "\n",
      "        Car Parking     Types      Amount    Area  Amount_Category_Low  \\\n",
      "0               4.0       NaN    420000.0   500.0                 True   \n",
      "1               1.0      Open    980000.0   473.0                False   \n",
      "2               1.0   Covered  14000000.0   779.0                False   \n",
      "3               4.0       NaN    250000.0   530.0                 True   \n",
      "4               1.0   Covered  16000000.0   635.0                False   \n",
      "...             ...       ...         ...     ...                  ...   \n",
      "187526          1.0   Covered    630000.0  1953.0                False   \n",
      "187527          1.0   Covered    550000.0  1680.0                False   \n",
      "187528          1.0   Covered    760000.0  1250.0                False   \n",
      "187529          4.0       NaN    300000.0   709.0                 True   \n",
      "187530          1.0   Covered  11800000.0  1915.0                False   \n",
      "\n",
      "        Amount_Category_Medium  Amount_Category_High  \n",
      "0                        False                 False  \n",
      "1                         True                 False  \n",
      "2                         True                 False  \n",
      "3                        False                 False  \n",
      "4                        False                  True  \n",
      "...                        ...                   ...  \n",
      "187526                    True                 False  \n",
      "187527                    True                 False  \n",
      "187528                    True                 False  \n",
      "187529                   False                 False  \n",
      "187530                    True                 False  \n",
      "\n",
      "[177058 rows x 12 columns]\n"
     ]
    }
   ],
   "source": [
    "print(df)"
   ]
  },
  {
   "cell_type": "code",
   "execution_count": 153,
   "metadata": {},
   "outputs": [
    {
     "name": "stdout",
     "output_type": "stream",
     "text": [
      "        Current Floor  Total Floor      Furnishing  Bathroom  Balcony  \\\n",
      "0                10.0         11.0     Unfurnished       1.0      2.0   \n",
      "1                 3.0         22.0  Semi-Furnished       2.0      2.0   \n",
      "2                10.0         29.0     Unfurnished       2.0      2.0   \n",
      "3                 1.0          3.0     Unfurnished       1.0      1.0   \n",
      "4                20.0         42.0     Unfurnished       2.0      2.0   \n",
      "...               ...          ...             ...       ...      ...   \n",
      "187526            2.0          4.0  Semi-Furnished       3.0      3.0   \n",
      "187527            4.0          6.0     Unfurnished       3.0      2.0   \n",
      "187528            1.0          3.0       Furnished       3.0      2.0   \n",
      "187529            2.0          2.0  Semi-Furnished       2.0      2.0   \n",
      "187530            5.0         13.0  Semi-Furnished       4.0      4.0   \n",
      "\n",
      "        Car Parking      Amount    Area  Amount_Category_Low  \\\n",
      "0               4.0    420000.0   500.0                 True   \n",
      "1               1.0    980000.0   473.0                False   \n",
      "2               1.0  14000000.0   779.0                False   \n",
      "3               4.0    250000.0   530.0                 True   \n",
      "4               1.0  16000000.0   635.0                False   \n",
      "...             ...         ...     ...                  ...   \n",
      "187526          1.0    630000.0  1953.0                False   \n",
      "187527          1.0    550000.0  1680.0                False   \n",
      "187528          1.0    760000.0  1250.0                False   \n",
      "187529          4.0    300000.0   709.0                 True   \n",
      "187530          1.0  11800000.0  1915.0                False   \n",
      "\n",
      "        Amount_Category_Medium  Amount_Category_High  Types_ Covered  \\\n",
      "0                        False                 False           False   \n",
      "1                         True                 False           False   \n",
      "2                         True                 False            True   \n",
      "3                        False                 False           False   \n",
      "4                        False                  True            True   \n",
      "...                        ...                   ...             ...   \n",
      "187526                    True                 False            True   \n",
      "187527                    True                 False            True   \n",
      "187528                    True                 False            True   \n",
      "187529                   False                 False           False   \n",
      "187530                    True                 False            True   \n",
      "\n",
      "        Types_ Open  Types_Unknown  \n",
      "0             False           True  \n",
      "1              True          False  \n",
      "2             False          False  \n",
      "3             False           True  \n",
      "4             False          False  \n",
      "...             ...            ...  \n",
      "187526        False          False  \n",
      "187527        False          False  \n",
      "187528        False          False  \n",
      "187529        False           True  \n",
      "187530        False          False  \n",
      "\n",
      "[177058 rows x 14 columns]\n"
     ]
    }
   ],
   "source": [
    "# Thay thế NaN trong cột 'Types' bằng một giá trị hợp lệ, ví dụ 'Unknown'\n",
    "df['Types'] = df['Types'].fillna('Unknown')\n",
    "\n",
    "# One-hot encoding cho cột 'Types'\n",
    "df = pd.get_dummies(df, columns=['Types'], drop_first=False)\n",
    "\n",
    "# In kết quả\n",
    "print(df)\n"
   ]
  },
  {
   "cell_type": "code",
   "execution_count": 154,
   "metadata": {},
   "outputs": [
    {
     "name": "stdout",
     "output_type": "stream",
     "text": [
      "        Current Floor  Total Floor  Bathroom  Balcony  Car Parking  \\\n",
      "0                10.0         11.0       1.0      2.0          4.0   \n",
      "1                 3.0         22.0       2.0      2.0          1.0   \n",
      "2                10.0         29.0       2.0      2.0          1.0   \n",
      "3                 1.0          3.0       1.0      1.0          4.0   \n",
      "4                20.0         42.0       2.0      2.0          1.0   \n",
      "...               ...          ...       ...      ...          ...   \n",
      "187526            2.0          4.0       3.0      3.0          1.0   \n",
      "187527            4.0          6.0       3.0      2.0          1.0   \n",
      "187528            1.0          3.0       3.0      2.0          1.0   \n",
      "187529            2.0          2.0       2.0      2.0          4.0   \n",
      "187530            5.0         13.0       4.0      4.0          1.0   \n",
      "\n",
      "            Amount    Area  Amount_Category_Low  Amount_Category_Medium  \\\n",
      "0         420000.0   500.0                 True                   False   \n",
      "1         980000.0   473.0                False                    True   \n",
      "2       14000000.0   779.0                False                    True   \n",
      "3         250000.0   530.0                 True                   False   \n",
      "4       16000000.0   635.0                False                   False   \n",
      "...            ...     ...                  ...                     ...   \n",
      "187526    630000.0  1953.0                False                    True   \n",
      "187527    550000.0  1680.0                False                    True   \n",
      "187528    760000.0  1250.0                False                    True   \n",
      "187529    300000.0   709.0                 True                   False   \n",
      "187530  11800000.0  1915.0                False                    True   \n",
      "\n",
      "        Amount_Category_High  Types_ Covered  Types_ Open  Types_Unknown  \\\n",
      "0                      False           False        False           True   \n",
      "1                      False           False         True          False   \n",
      "2                      False            True        False          False   \n",
      "3                      False           False        False           True   \n",
      "4                       True            True        False          False   \n",
      "...                      ...             ...          ...            ...   \n",
      "187526                 False            True        False          False   \n",
      "187527                 False            True        False          False   \n",
      "187528                 False            True        False          False   \n",
      "187529                 False           False        False           True   \n",
      "187530                 False            True        False          False   \n",
      "\n",
      "        Furnishing_Furnished  Furnishing_Semi-Furnished  \\\n",
      "0                      False                      False   \n",
      "1                      False                       True   \n",
      "2                      False                      False   \n",
      "3                      False                      False   \n",
      "4                      False                      False   \n",
      "...                      ...                        ...   \n",
      "187526                 False                       True   \n",
      "187527                 False                      False   \n",
      "187528                  True                      False   \n",
      "187529                 False                       True   \n",
      "187530                 False                       True   \n",
      "\n",
      "        Furnishing_Unfurnished  Furnishing_Unknown  \n",
      "0                         True               False  \n",
      "1                        False               False  \n",
      "2                         True               False  \n",
      "3                         True               False  \n",
      "4                         True               False  \n",
      "...                        ...                 ...  \n",
      "187526                   False               False  \n",
      "187527                    True               False  \n",
      "187528                   False               False  \n",
      "187529                   False               False  \n",
      "187530                   False               False  \n",
      "\n",
      "[177058 rows x 17 columns]\n"
     ]
    }
   ],
   "source": [
    "# Giả sử 'Furnishing' là tên của cột trong DataFrame\n",
    "# Thay thế NaN trong cột 'Types' bằng một giá trị hợp lệ, ví dụ 'Unknown'\n",
    "df['Furnishing'] = df['Furnishing'].fillna('Unknown')\n",
    "\n",
    "# One-hot encoding cho cột Furnishing\n",
    "df = pd.get_dummies(df, columns=['Furnishing'], drop_first=False)\n",
    "\n",
    "# In kết quả\n",
    "print(df)\n"
   ]
  },
  {
   "cell_type": "code",
   "execution_count": 156,
   "metadata": {},
   "outputs": [
    {
     "name": "stdout",
     "output_type": "stream",
     "text": [
      "       Current Floor    Total Floor       Bathroom        Balcony  \\\n",
      "count  177058.000000  177058.000000  177058.000000  177058.000000   \n",
      "mean        4.729117       8.771629       2.448090       2.008839   \n",
      "std         4.471220       7.419662       0.852182       0.817157   \n",
      "min         1.000000       1.000000       1.000000       1.000000   \n",
      "25%         2.000000       4.000000       2.000000       1.000000   \n",
      "50%         4.000000       6.000000       2.000000       2.000000   \n",
      "75%         5.000000      11.000000       3.000000       2.000000   \n",
      "max       200.000000     200.000000      10.000000      10.000000   \n",
      "\n",
      "         Car Parking        Amount          Area  \n",
      "count  177058.000000  1.770580e+05  1.770580e+05  \n",
      "mean        4.000966  8.842855e+06  2.243598e+03  \n",
      "std        21.485081  4.000931e+07  2.018833e+05  \n",
      "min         1.000000  1.000000e+04  1.000000e+00  \n",
      "25%         1.000000  4.850000e+05  9.000000e+02  \n",
      "50%         4.000000  7.800000e+05  1.200000e+03  \n",
      "75%         4.000000  1.450000e+07  1.600000e+03  \n",
      "max       999.000000  1.400300e+10  6.534000e+07  \n"
     ]
    }
   ],
   "source": [
    "print(df.describe())"
   ]
  },
  {
   "cell_type": "code",
   "execution_count": 157,
   "metadata": {},
   "outputs": [
    {
     "name": "stdout",
     "output_type": "stream",
     "text": [
      "        Current Floor  Total Floor  Bathroom  Balcony  Car Parking    Amount  \\\n",
      "0                  10           11         1        2            4    420000   \n",
      "1                   3           22         2        2            1    980000   \n",
      "2                  10           29         2        2            1  14000000   \n",
      "3                   1            3         1        1            4    250000   \n",
      "4                  20           42         2        2            1  16000000   \n",
      "...               ...          ...       ...      ...          ...       ...   \n",
      "187526              2            4         3        3            1    630000   \n",
      "187527              4            6         3        2            1    550000   \n",
      "187528              1            3         3        2            1    760000   \n",
      "187529              2            2         2        2            4    300000   \n",
      "187530              5           13         4        4            1  11800000   \n",
      "\n",
      "        Area  Amount_Category_Low  Amount_Category_Medium  \\\n",
      "0        500                    1                       0   \n",
      "1        473                    0                       1   \n",
      "2        779                    0                       1   \n",
      "3        530                    1                       0   \n",
      "4        635                    0                       0   \n",
      "...      ...                  ...                     ...   \n",
      "187526  1953                    0                       1   \n",
      "187527  1680                    0                       1   \n",
      "187528  1250                    0                       1   \n",
      "187529   709                    1                       0   \n",
      "187530  1915                    0                       1   \n",
      "\n",
      "        Amount_Category_High  Types_ Covered  Types_ Open  Types_Unknown  \\\n",
      "0                          0               0            0              1   \n",
      "1                          0               0            1              0   \n",
      "2                          0               1            0              0   \n",
      "3                          0               0            0              1   \n",
      "4                          1               1            0              0   \n",
      "...                      ...             ...          ...            ...   \n",
      "187526                     0               1            0              0   \n",
      "187527                     0               1            0              0   \n",
      "187528                     0               1            0              0   \n",
      "187529                     0               0            0              1   \n",
      "187530                     0               1            0              0   \n",
      "\n",
      "        Furnishing_Furnished  Furnishing_Semi-Furnished  \\\n",
      "0                          0                          0   \n",
      "1                          0                          1   \n",
      "2                          0                          0   \n",
      "3                          0                          0   \n",
      "4                          0                          0   \n",
      "...                      ...                        ...   \n",
      "187526                     0                          1   \n",
      "187527                     0                          0   \n",
      "187528                     1                          0   \n",
      "187529                     0                          1   \n",
      "187530                     0                          1   \n",
      "\n",
      "        Furnishing_Unfurnished  Furnishing_Unknown  \n",
      "0                            1                   0  \n",
      "1                            0                   0  \n",
      "2                            1                   0  \n",
      "3                            1                   0  \n",
      "4                            1                   0  \n",
      "...                        ...                 ...  \n",
      "187526                       0                   0  \n",
      "187527                       1                   0  \n",
      "187528                       0                   0  \n",
      "187529                       0                   0  \n",
      "187530                       0                   0  \n",
      "\n",
      "[177058 rows x 17 columns]\n"
     ]
    }
   ],
   "source": [
    "# Chuyển các giá trị True/False thành 1/0\n",
    "df = df.astype(int)\n",
    "\n",
    "# In kết quả\n",
    "print(df)"
   ]
  },
  {
   "cell_type": "code",
   "execution_count": 158,
   "metadata": {},
   "outputs": [
    {
     "name": "stdout",
     "output_type": "stream",
     "text": [
      "       Current Floor    Total Floor       Bathroom        Balcony  \\\n",
      "count  175547.000000  175547.000000  175547.000000  175547.000000   \n",
      "mean        4.740856       8.781215       2.456305       2.013979   \n",
      "std         4.425971       7.370100       0.848510       0.816974   \n",
      "min         1.000000       1.000000       1.000000       1.000000   \n",
      "25%         2.000000       4.000000       2.000000       1.000000   \n",
      "50%         4.000000       6.000000       2.000000       2.000000   \n",
      "75%         5.000000      11.000000       3.000000       2.000000   \n",
      "max        63.000000      70.000000      10.000000      10.000000   \n",
      "\n",
      "         Car Parking        Amount          Area  Amount_Category_Low  \\\n",
      "count  175547.000000  1.755470e+05  1.755470e+05        175547.000000   \n",
      "mean        2.888896  8.704995e+06  2.259135e+03             0.244789   \n",
      "std         2.426943  1.831435e+07  2.027501e+05             0.429963   \n",
      "min         1.000000 -2.147484e+09  1.000000e+02             0.000000   \n",
      "25%         1.000000  5.000000e+05  9.000000e+02             0.000000   \n",
      "50%         4.000000  7.800000e+05  1.200000e+03             0.000000   \n",
      "75%         4.000000  1.490000e+07  1.600000e+03             0.000000   \n",
      "max        50.000000  8.000000e+08  6.534000e+07             1.000000   \n",
      "\n",
      "       Amount_Category_Medium  Amount_Category_High  Types_ Covered  \\\n",
      "count           175547.000000         175547.000000   175547.000000   \n",
      "mean                 0.504275              0.250936        0.399249   \n",
      "std                  0.499983              0.433553        0.489745   \n",
      "min                  0.000000              0.000000        0.000000   \n",
      "25%                  0.000000              0.000000        0.000000   \n",
      "50%                  1.000000              0.000000        0.000000   \n",
      "75%                  1.000000              1.000000        1.000000   \n",
      "max                  1.000000              1.000000        1.000000   \n",
      "\n",
      "         Types_ Open  Types_Unknown  Furnishing_Furnished  \\\n",
      "count  175547.000000  175547.000000         175547.000000   \n",
      "mean        0.063960       0.536791              0.105465   \n",
      "std         0.244683       0.498646              0.307152   \n",
      "min         0.000000       0.000000              0.000000   \n",
      "25%         0.000000       0.000000              0.000000   \n",
      "50%         0.000000       1.000000              0.000000   \n",
      "75%         0.000000       1.000000              0.000000   \n",
      "max         1.000000       1.000000              1.000000   \n",
      "\n",
      "       Furnishing_Semi-Furnished  Furnishing_Unfurnished  Furnishing_Unknown  \n",
      "count              175547.000000           175547.000000       175547.000000  \n",
      "mean                    0.470991                0.415877            0.007667  \n",
      "std                     0.499159                0.492874            0.087228  \n",
      "min                     0.000000                0.000000            0.000000  \n",
      "25%                     0.000000                0.000000            0.000000  \n",
      "50%                     0.000000                0.000000            0.000000  \n",
      "75%                     1.000000                1.000000            0.000000  \n",
      "max                     1.000000                1.000000            1.000000  \n"
     ]
    }
   ],
   "source": [
    "# Giả sử df là DataFrame của bạn\n",
    "\n",
    "# Loại bỏ các hàng có số tầng (Current Floor, Total Floor) lớn hơn 70\n",
    "df = df[(df['Current Floor'] <= 70) & (df['Total Floor'] <= 70)]\n",
    "\n",
    "# Loại bỏ các hàng có Car Parking quá lớn (giả sử quá lớn là > 50)\n",
    "df = df[df['Car Parking'] <= 50]\n",
    "\n",
    "# Loại bỏ các hàng có diện tích (Area) quá nhỏ (giả sử quá nhỏ là < 100)\n",
    "df = df[df['Area'] >= 100]\n",
    "\n",
    "# In kết quả sau khi lọc\n",
    "print(df.describe())\n"
   ]
  },
  {
   "cell_type": "code",
   "execution_count": 159,
   "metadata": {},
   "outputs": [
    {
     "name": "stdout",
     "output_type": "stream",
     "text": [
      "       Current Floor    Total Floor       Bathroom        Balcony  \\\n",
      "count  166468.000000  166468.000000  166468.000000  166468.000000   \n",
      "mean        4.612490       8.512080       2.387612       1.993879   \n",
      "std         4.268583       6.981149       0.775829       0.797706   \n",
      "min         1.000000       1.000000       1.000000       1.000000   \n",
      "25%         2.000000       4.000000       2.000000       1.000000   \n",
      "50%         4.000000       6.000000       2.000000       2.000000   \n",
      "75%         5.000000      11.000000       3.000000       2.000000   \n",
      "max        40.000000      70.000000      10.000000      10.000000   \n",
      "\n",
      "         Car Parking        Amount          Area  Amount_Category_Low  \\\n",
      "count  166468.000000  1.664680e+05  1.664680e+05        166468.000000   \n",
      "mean        2.757293  6.649369e+06  2.245321e+03             0.257611   \n",
      "std         1.434455  9.163404e+06  2.082054e+05             0.437320   \n",
      "min         1.000000  1.000000e+04  1.000000e+02             0.000000   \n",
      "25%         1.000000  4.760000e+05  8.950000e+02             0.000000   \n",
      "50%         4.000000  7.500000e+05  1.180000e+03             0.000000   \n",
      "75%         4.000000  1.300000e+07  1.550000e+03             1.000000   \n",
      "max         8.000000  3.650000e+07  6.534000e+07             1.000000   \n",
      "\n",
      "       Amount_Category_Medium  Amount_Category_High  Types_ Covered  \\\n",
      "count           166468.000000         166468.000000   166468.000000   \n",
      "mean                 0.522797              0.219592        0.376925   \n",
      "std                  0.499482              0.413971        0.484617   \n",
      "min                  0.000000              0.000000        0.000000   \n",
      "25%                  0.000000              0.000000        0.000000   \n",
      "50%                  1.000000              0.000000        0.000000   \n",
      "75%                  1.000000              0.000000        1.000000   \n",
      "max                  1.000000              1.000000        1.000000   \n",
      "\n",
      "         Types_ Open  Types_Unknown  Furnishing_Furnished  \\\n",
      "count  166468.000000  166468.000000         166468.000000   \n",
      "mean        0.061754       0.561321              0.107414   \n",
      "std         0.240708       0.496227              0.309640   \n",
      "min         0.000000       0.000000              0.000000   \n",
      "25%         0.000000       0.000000              0.000000   \n",
      "50%         0.000000       1.000000              0.000000   \n",
      "75%         0.000000       1.000000              0.000000   \n",
      "max         1.000000       1.000000              1.000000   \n",
      "\n",
      "       Furnishing_Semi-Furnished  Furnishing_Unfurnished  Furnishing_Unknown  \n",
      "count              166468.000000           166468.000000       166468.000000  \n",
      "mean                    0.465477                0.419150            0.007959  \n",
      "std                     0.498808                0.493421            0.088860  \n",
      "min                     0.000000                0.000000            0.000000  \n",
      "25%                     0.000000                0.000000            0.000000  \n",
      "50%                     0.000000                0.000000            0.000000  \n",
      "75%                     1.000000                1.000000            0.000000  \n",
      "max                     1.000000                1.000000            1.000000  \n"
     ]
    }
   ],
   "source": [
    "# Tính tứ phân vị (Q1, Q3) và IQR\n",
    "Q1_amount = df['Amount'].quantile(0.25)\n",
    "Q3_amount = df['Amount'].quantile(0.75)\n",
    "IQR_amount = Q3_amount - Q1_amount\n",
    "\n",
    "Q1_car_parking = df['Car Parking'].quantile(0.25)\n",
    "Q3_car_parking = df['Car Parking'].quantile(0.75)\n",
    "IQR_car_parking = Q3_car_parking - Q1_car_parking\n",
    "\n",
    "# Loại bỏ các hàng có giá trị ngoại lai (outliers) đối với Amount và Car Parking\n",
    "df_filtered = df[(df['Amount'] >= (Q1_amount - 1.5 * IQR_amount)) & (df['Amount'] <= (Q3_amount + 1.5 * IQR_amount))]\n",
    "df_filtered = df_filtered[(df_filtered['Car Parking'] >= (Q1_car_parking - 1.5 * IQR_car_parking)) & (df_filtered['Car Parking'] <= (Q3_car_parking + 1.5 * IQR_car_parking))]\n",
    "\n",
    "# Kiểm tra lại thông số thống kê sau khi loại bỏ ngoại lai\n",
    "print(df_filtered.describe())\n"
   ]
  },
  {
   "cell_type": "code",
   "execution_count": 160,
   "metadata": {},
   "outputs": [
    {
     "name": "stdout",
     "output_type": "stream",
     "text": [
      "        Current Floor  Total Floor  Bathroom  Balcony  Car Parking    Amount  \\\n",
      "0                  10           11         1        2            4    420000   \n",
      "1                   3           22         2        2            1    980000   \n",
      "2                  10           29         2        2            1  14000000   \n",
      "3                   1            3         1        1            4    250000   \n",
      "4                  20           42         2        2            1  16000000   \n",
      "...               ...          ...       ...      ...          ...       ...   \n",
      "187526              2            4         3        3            1    630000   \n",
      "187527              4            6         3        2            1    550000   \n",
      "187528              1            3         3        2            1    760000   \n",
      "187529              2            2         2        2            4    300000   \n",
      "187530              5           13         4        4            1  11800000   \n",
      "\n",
      "        Area  Amount_Category_Low  Amount_Category_Medium  \\\n",
      "0        500                    1                       0   \n",
      "1        473                    0                       1   \n",
      "2        779                    0                       1   \n",
      "3        530                    1                       0   \n",
      "4        635                    0                       0   \n",
      "...      ...                  ...                     ...   \n",
      "187526  1953                    0                       1   \n",
      "187527  1680                    0                       1   \n",
      "187528  1250                    0                       1   \n",
      "187529   709                    1                       0   \n",
      "187530  1915                    0                       1   \n",
      "\n",
      "        Amount_Category_High  Types_ Covered  Types_ Open  Types_Unknown  \\\n",
      "0                          0               0            0              1   \n",
      "1                          0               0            1              0   \n",
      "2                          0               1            0              0   \n",
      "3                          0               0            0              1   \n",
      "4                          1               1            0              0   \n",
      "...                      ...             ...          ...            ...   \n",
      "187526                     0               1            0              0   \n",
      "187527                     0               1            0              0   \n",
      "187528                     0               1            0              0   \n",
      "187529                     0               0            0              1   \n",
      "187530                     0               1            0              0   \n",
      "\n",
      "        Furnishing_Furnished  Furnishing_Semi-Furnished  \\\n",
      "0                          0                          0   \n",
      "1                          0                          1   \n",
      "2                          0                          0   \n",
      "3                          0                          0   \n",
      "4                          0                          0   \n",
      "...                      ...                        ...   \n",
      "187526                     0                          1   \n",
      "187527                     0                          0   \n",
      "187528                     1                          0   \n",
      "187529                     0                          1   \n",
      "187530                     0                          1   \n",
      "\n",
      "        Furnishing_Unfurnished  Furnishing_Unknown  \n",
      "0                            1                   0  \n",
      "1                            0                   0  \n",
      "2                            1                   0  \n",
      "3                            1                   0  \n",
      "4                            1                   0  \n",
      "...                        ...                 ...  \n",
      "187526                       0                   0  \n",
      "187527                       1                   0  \n",
      "187528                       0                   0  \n",
      "187529                       0                   0  \n",
      "187530                       0                   0  \n",
      "\n",
      "[175547 rows x 17 columns]\n"
     ]
    }
   ],
   "source": [
    "print(df)"
   ]
  },
  {
   "cell_type": "code",
   "execution_count": 162,
   "metadata": {},
   "outputs": [],
   "source": [
    "# Lưu dữ liệu đã xử lý vào file CSV mới\n",
    "df.to_csv(\"D:\\\\House Prices _ onehot\\\\Dataset\\\\traning_data.csv\", index=False)\n"
   ]
  }
 ],
 "metadata": {
  "kernelspec": {
   "display_name": "Python 3",
   "language": "python",
   "name": "python3"
  },
  "language_info": {
   "codemirror_mode": {
    "name": "ipython",
    "version": 3
   },
   "file_extension": ".py",
   "mimetype": "text/x-python",
   "name": "python",
   "nbconvert_exporter": "python",
   "pygments_lexer": "ipython3",
   "version": "3.11.3"
  }
 },
 "nbformat": 4,
 "nbformat_minor": 2
}
